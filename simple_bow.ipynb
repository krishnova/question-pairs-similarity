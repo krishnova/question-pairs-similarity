{
 "cells": [
  {
   "cell_type": "markdown",
   "id": "0ea87df3-6602-4eab-a29e-d5648956f37d",
   "metadata": {},
   "source": [
    "*Bag of Words implemented on qid1 and qid2 without applying any feature engineering*"
   ]
  },
  {
   "cell_type": "code",
   "execution_count": 1,
   "id": "d40e8a3e-7c56-45d3-82e7-e0e860624d29",
   "metadata": {},
   "outputs": [],
   "source": [
    "import numpy as np\n",
    "import pandas as pd\n",
    "import matplotlib.pyplot as plt\n",
    "import seaborn as sns"
   ]
  },
  {
   "cell_type": "code",
   "execution_count": 2,
   "id": "be166297-e03d-4b5a-ac0a-2e1113ad9220",
   "metadata": {},
   "outputs": [],
   "source": [
    "df = pd.read_csv(r\"C:\\Users\\sneeg\\Desktop\\Sneegdh\\IT - C\\7th Sems\\Info Retrieval\\IR Project\\train.csv\")"
   ]
  },
  {
   "cell_type": "code",
   "execution_count": 5,
   "id": "b916dd48-64ba-4f18-bad1-bcf2bac650ad",
   "metadata": {},
   "outputs": [
    {
     "data": {
      "text/html": [
       "<div>\n",
       "<style scoped>\n",
       "    .dataframe tbody tr th:only-of-type {\n",
       "        vertical-align: middle;\n",
       "    }\n",
       "\n",
       "    .dataframe tbody tr th {\n",
       "        vertical-align: top;\n",
       "    }\n",
       "\n",
       "    .dataframe thead th {\n",
       "        text-align: right;\n",
       "    }\n",
       "</style>\n",
       "<table border=\"1\" class=\"dataframe\">\n",
       "  <thead>\n",
       "    <tr style=\"text-align: right;\">\n",
       "      <th></th>\n",
       "      <th>id</th>\n",
       "      <th>qid1</th>\n",
       "      <th>qid2</th>\n",
       "      <th>question1</th>\n",
       "      <th>question2</th>\n",
       "      <th>is_duplicate</th>\n",
       "    </tr>\n",
       "  </thead>\n",
       "  <tbody>\n",
       "    <tr>\n",
       "      <th>28259</th>\n",
       "      <td>28259</td>\n",
       "      <td>52420</td>\n",
       "      <td>51687</td>\n",
       "      <td>Stephen Hsu (physicist): What does Stephen Hsu...</td>\n",
       "      <td>Stephen Hsu (physicist): What does Stephen Hsu...</td>\n",
       "      <td>0</td>\n",
       "    </tr>\n",
       "    <tr>\n",
       "      <th>240349</th>\n",
       "      <td>240349</td>\n",
       "      <td>297103</td>\n",
       "      <td>352147</td>\n",
       "      <td>How do I turn off parental control on Netflix?</td>\n",
       "      <td>How do I use parental controls on Directv?</td>\n",
       "      <td>0</td>\n",
       "    </tr>\n",
       "    <tr>\n",
       "      <th>310699</th>\n",
       "      <td>310699</td>\n",
       "      <td>434858</td>\n",
       "      <td>434859</td>\n",
       "      <td>If I had beans on toast for two weeks, would I...</td>\n",
       "      <td>I've been eating under 1200 calories, doing an...</td>\n",
       "      <td>0</td>\n",
       "    </tr>\n",
       "    <tr>\n",
       "      <th>79167</th>\n",
       "      <td>79167</td>\n",
       "      <td>134848</td>\n",
       "      <td>134849</td>\n",
       "      <td>How can we get a Bollywood actor/actress's mob...</td>\n",
       "      <td>Do some Bollywood actresses had to have sex wi...</td>\n",
       "      <td>0</td>\n",
       "    </tr>\n",
       "    <tr>\n",
       "      <th>239875</th>\n",
       "      <td>239875</td>\n",
       "      <td>351561</td>\n",
       "      <td>351562</td>\n",
       "      <td>Can someone help me to choose between Ricoh th...</td>\n",
       "      <td>What are Harriet Tubman's achievements?</td>\n",
       "      <td>0</td>\n",
       "    </tr>\n",
       "    <tr>\n",
       "      <th>41320</th>\n",
       "      <td>41320</td>\n",
       "      <td>74620</td>\n",
       "      <td>74621</td>\n",
       "      <td>Why is sodium hydrogen carbonate soluble in wa...</td>\n",
       "      <td>Why is sodium carbonate soluble in water?</td>\n",
       "      <td>0</td>\n",
       "    </tr>\n",
       "    <tr>\n",
       "      <th>304869</th>\n",
       "      <td>304869</td>\n",
       "      <td>261067</td>\n",
       "      <td>428186</td>\n",
       "      <td>What are the strongest majors in terms of job ...</td>\n",
       "      <td>What are the strongest majors in terms of job ...</td>\n",
       "      <td>0</td>\n",
       "    </tr>\n",
       "  </tbody>\n",
       "</table>\n",
       "</div>"
      ],
      "text/plain": [
       "            id    qid1    qid2  \\\n",
       "28259    28259   52420   51687   \n",
       "240349  240349  297103  352147   \n",
       "310699  310699  434858  434859   \n",
       "79167    79167  134848  134849   \n",
       "239875  239875  351561  351562   \n",
       "41320    41320   74620   74621   \n",
       "304869  304869  261067  428186   \n",
       "\n",
       "                                                question1  \\\n",
       "28259   Stephen Hsu (physicist): What does Stephen Hsu...   \n",
       "240349     How do I turn off parental control on Netflix?   \n",
       "310699  If I had beans on toast for two weeks, would I...   \n",
       "79167   How can we get a Bollywood actor/actress's mob...   \n",
       "239875  Can someone help me to choose between Ricoh th...   \n",
       "41320   Why is sodium hydrogen carbonate soluble in wa...   \n",
       "304869  What are the strongest majors in terms of job ...   \n",
       "\n",
       "                                                question2  is_duplicate  \n",
       "28259   Stephen Hsu (physicist): What does Stephen Hsu...             0  \n",
       "240349         How do I use parental controls on Directv?             0  \n",
       "310699  I've been eating under 1200 calories, doing an...             0  \n",
       "79167   Do some Bollywood actresses had to have sex wi...             0  \n",
       "239875            What are Harriet Tubman's achievements?             0  \n",
       "41320           Why is sodium carbonate soluble in water?             0  \n",
       "304869  What are the strongest majors in terms of job ...             0  "
      ]
     },
     "execution_count": 5,
     "metadata": {},
     "output_type": "execute_result"
    }
   ],
   "source": [
    "df.sample(7)"
   ]
  },
  {
   "cell_type": "code",
   "execution_count": 7,
   "id": "09e13257-b5f4-4d1a-8f53-829eb8828c41",
   "metadata": {},
   "outputs": [
    {
     "data": {
      "text/plain": [
       "(404290, 6)"
      ]
     },
     "execution_count": 7,
     "metadata": {},
     "output_type": "execute_result"
    }
   ],
   "source": [
    "df.shape"
   ]
  },
  {
   "cell_type": "markdown",
   "id": "9a55d1d4-6a89-4354-a65a-61483fbd3cd3",
   "metadata": {},
   "source": [
    "#### As there are 400K rows, it'll take a lot of time so for the output. Therefore rather than using the 400K rows, I'll randomly select 30K rows."
   ]
  },
  {
   "cell_type": "code",
   "execution_count": 12,
   "id": "86f4c433-91d5-4cf6-b9a8-1eaac99b751b",
   "metadata": {},
   "outputs": [],
   "source": [
    "new_df = df.sample(30000)"
   ]
  },
  {
   "cell_type": "code",
   "execution_count": 13,
   "id": "5b91dcfc-47c9-48aa-8595-5d471435be85",
   "metadata": {},
   "outputs": [
    {
     "data": {
      "text/plain": [
       "id              0\n",
       "qid1            0\n",
       "qid2            0\n",
       "question1       0\n",
       "question2       0\n",
       "is_duplicate    0\n",
       "dtype: int64"
      ]
     },
     "execution_count": 13,
     "metadata": {},
     "output_type": "execute_result"
    }
   ],
   "source": [
    "new_df.isnull().sum()"
   ]
  },
  {
   "cell_type": "code",
   "execution_count": 14,
   "id": "e84c04e2-590a-4d0a-bde1-d22c2a4a69f3",
   "metadata": {},
   "outputs": [
    {
     "data": {
      "text/plain": [
       "0"
      ]
     },
     "execution_count": 14,
     "metadata": {},
     "output_type": "execute_result"
    }
   ],
   "source": [
    "new_df.duplicated().sum()"
   ]
  },
  {
   "cell_type": "markdown",
   "id": "f5807805-58a4-4bdf-a8d1-39c806194155",
   "metadata": {},
   "source": [
    "The new dataframe does not have any null values"
   ]
  },
  {
   "cell_type": "code",
   "execution_count": 15,
   "id": "7fc5e7b1-82f6-4e4c-bb88-ccf73f7959d8",
   "metadata": {},
   "outputs": [
    {
     "data": {
      "text/html": [
       "<div>\n",
       "<style scoped>\n",
       "    .dataframe tbody tr th:only-of-type {\n",
       "        vertical-align: middle;\n",
       "    }\n",
       "\n",
       "    .dataframe tbody tr th {\n",
       "        vertical-align: top;\n",
       "    }\n",
       "\n",
       "    .dataframe thead th {\n",
       "        text-align: right;\n",
       "    }\n",
       "</style>\n",
       "<table border=\"1\" class=\"dataframe\">\n",
       "  <thead>\n",
       "    <tr style=\"text-align: right;\">\n",
       "      <th></th>\n",
       "      <th>question1</th>\n",
       "      <th>question2</th>\n",
       "    </tr>\n",
       "  </thead>\n",
       "  <tbody>\n",
       "    <tr>\n",
       "      <th>138476</th>\n",
       "      <td>How do you write out the sound of throat clear...</td>\n",
       "      <td>Why can't one specific Skype contact hear me w...</td>\n",
       "    </tr>\n",
       "    <tr>\n",
       "      <th>346090</th>\n",
       "      <td>Is it okay to wash your body after playing bas...</td>\n",
       "      <td>What is more resource expensive for a server m...</td>\n",
       "    </tr>\n",
       "    <tr>\n",
       "      <th>383975</th>\n",
       "      <td>What was the Christmas truce?</td>\n",
       "      <td>What happened at the Christmas truce of 1914?</td>\n",
       "    </tr>\n",
       "    <tr>\n",
       "      <th>201157</th>\n",
       "      <td>How do I stop the habit of masturbating?</td>\n",
       "      <td>How can I avoid the habit of masturbating?</td>\n",
       "    </tr>\n",
       "    <tr>\n",
       "      <th>145579</th>\n",
       "      <td>If Donald Trump wins, will it mean the FBI had...</td>\n",
       "      <td>What are the advantages of having sexual inter...</td>\n",
       "    </tr>\n",
       "  </tbody>\n",
       "</table>\n",
       "</div>"
      ],
      "text/plain": [
       "                                                question1  \\\n",
       "138476  How do you write out the sound of throat clear...   \n",
       "346090  Is it okay to wash your body after playing bas...   \n",
       "383975                      What was the Christmas truce?   \n",
       "201157           How do I stop the habit of masturbating?   \n",
       "145579  If Donald Trump wins, will it mean the FBI had...   \n",
       "\n",
       "                                                question2  \n",
       "138476  Why can't one specific Skype contact hear me w...  \n",
       "346090  What is more resource expensive for a server m...  \n",
       "383975      What happened at the Christmas truce of 1914?  \n",
       "201157         How can I avoid the habit of masturbating?  \n",
       "145579  What are the advantages of having sexual inter...  "
      ]
     },
     "execution_count": 15,
     "metadata": {},
     "output_type": "execute_result"
    }
   ],
   "source": [
    "# Creating a new dataframe having only the questions 1 and 2\n",
    "\n",
    "ques_df = new_df[['question1', 'question2']]\n",
    "ques_df.head()"
   ]
  },
  {
   "cell_type": "code",
   "execution_count": 17,
   "id": "02fb6dd7-a32d-441e-bb37-bbd5d9c5aa52",
   "metadata": {},
   "outputs": [],
   "source": [
    "# BOW implementation - CountVectorizer library\n",
    "\n",
    "from sklearn.feature_extraction.text import CountVectorizer\n",
    "# merge texts - question variable -> list \n",
    "questions = list(ques_df['question1']) + list(ques_df['question2'])\n",
    "\n",
    "\n",
    "# Creating feature from most used 3000 words out of 15-20k\n",
    "cv = CountVectorizer(max_features = 3000)\n",
    "\n",
    "# 60K total qts -> split 30K qts for q1 & 30K for q2\n",
    "q1_arr, q2_arr = np.vsplit(cv.fit_transform(questions).toarray(),2)"
   ]
  },
  {
   "cell_type": "code",
   "execution_count": 18,
   "id": "b9e2f667-e173-4036-ae1a-04e3f5c70f09",
   "metadata": {},
   "outputs": [
    {
     "data": {
      "text/plain": [
       "(30000, 6000)"
      ]
     },
     "execution_count": 18,
     "metadata": {},
     "output_type": "execute_result"
    }
   ],
   "source": [
    "# converting into dataframe\n",
    "temp_df1 = pd.DataFrame(q1_arr, index = ques_df.index)\n",
    "temp_df2 = pd.DataFrame(q2_arr, index = ques_df.index)\n",
    "\n",
    "# concatenating it\n",
    "temp_df = pd.concat([temp_df1, temp_df2], axis = 1)\n",
    "temp_df.shape"
   ]
  },
  {
   "cell_type": "markdown",
   "id": "a7cfa0bb-6831-49a7-9dfd-bff6158e0c89",
   "metadata": {},
   "source": [
    "6000 features bcoz -> 3000 BOW features in q1 & 3000 in q2"
   ]
  },
  {
   "cell_type": "code",
   "execution_count": 19,
   "id": "e4f40bd0-4537-43e9-a2d8-b31cc4ecb5fe",
   "metadata": {},
   "outputs": [
    {
     "data": {
      "text/html": [
       "<div>\n",
       "<style scoped>\n",
       "    .dataframe tbody tr th:only-of-type {\n",
       "        vertical-align: middle;\n",
       "    }\n",
       "\n",
       "    .dataframe tbody tr th {\n",
       "        vertical-align: top;\n",
       "    }\n",
       "\n",
       "    .dataframe thead th {\n",
       "        text-align: right;\n",
       "    }\n",
       "</style>\n",
       "<table border=\"1\" class=\"dataframe\">\n",
       "  <thead>\n",
       "    <tr style=\"text-align: right;\">\n",
       "      <th></th>\n",
       "      <th>0</th>\n",
       "      <th>1</th>\n",
       "      <th>2</th>\n",
       "      <th>3</th>\n",
       "      <th>4</th>\n",
       "      <th>5</th>\n",
       "      <th>6</th>\n",
       "      <th>7</th>\n",
       "      <th>8</th>\n",
       "      <th>9</th>\n",
       "      <th>...</th>\n",
       "      <th>2990</th>\n",
       "      <th>2991</th>\n",
       "      <th>2992</th>\n",
       "      <th>2993</th>\n",
       "      <th>2994</th>\n",
       "      <th>2995</th>\n",
       "      <th>2996</th>\n",
       "      <th>2997</th>\n",
       "      <th>2998</th>\n",
       "      <th>2999</th>\n",
       "    </tr>\n",
       "  </thead>\n",
       "  <tbody>\n",
       "    <tr>\n",
       "      <th>138476</th>\n",
       "      <td>0</td>\n",
       "      <td>0</td>\n",
       "      <td>0</td>\n",
       "      <td>0</td>\n",
       "      <td>0</td>\n",
       "      <td>0</td>\n",
       "      <td>0</td>\n",
       "      <td>0</td>\n",
       "      <td>0</td>\n",
       "      <td>0</td>\n",
       "      <td>...</td>\n",
       "      <td>0</td>\n",
       "      <td>0</td>\n",
       "      <td>0</td>\n",
       "      <td>0</td>\n",
       "      <td>0</td>\n",
       "      <td>0</td>\n",
       "      <td>0</td>\n",
       "      <td>0</td>\n",
       "      <td>0</td>\n",
       "      <td>0</td>\n",
       "    </tr>\n",
       "    <tr>\n",
       "      <th>346090</th>\n",
       "      <td>0</td>\n",
       "      <td>0</td>\n",
       "      <td>0</td>\n",
       "      <td>0</td>\n",
       "      <td>0</td>\n",
       "      <td>0</td>\n",
       "      <td>0</td>\n",
       "      <td>0</td>\n",
       "      <td>0</td>\n",
       "      <td>0</td>\n",
       "      <td>...</td>\n",
       "      <td>0</td>\n",
       "      <td>0</td>\n",
       "      <td>0</td>\n",
       "      <td>0</td>\n",
       "      <td>0</td>\n",
       "      <td>0</td>\n",
       "      <td>0</td>\n",
       "      <td>0</td>\n",
       "      <td>0</td>\n",
       "      <td>0</td>\n",
       "    </tr>\n",
       "    <tr>\n",
       "      <th>383975</th>\n",
       "      <td>0</td>\n",
       "      <td>0</td>\n",
       "      <td>0</td>\n",
       "      <td>0</td>\n",
       "      <td>0</td>\n",
       "      <td>0</td>\n",
       "      <td>0</td>\n",
       "      <td>0</td>\n",
       "      <td>0</td>\n",
       "      <td>0</td>\n",
       "      <td>...</td>\n",
       "      <td>0</td>\n",
       "      <td>0</td>\n",
       "      <td>0</td>\n",
       "      <td>0</td>\n",
       "      <td>0</td>\n",
       "      <td>0</td>\n",
       "      <td>0</td>\n",
       "      <td>0</td>\n",
       "      <td>0</td>\n",
       "      <td>0</td>\n",
       "    </tr>\n",
       "    <tr>\n",
       "      <th>201157</th>\n",
       "      <td>0</td>\n",
       "      <td>0</td>\n",
       "      <td>0</td>\n",
       "      <td>0</td>\n",
       "      <td>0</td>\n",
       "      <td>0</td>\n",
       "      <td>0</td>\n",
       "      <td>0</td>\n",
       "      <td>0</td>\n",
       "      <td>0</td>\n",
       "      <td>...</td>\n",
       "      <td>0</td>\n",
       "      <td>0</td>\n",
       "      <td>0</td>\n",
       "      <td>0</td>\n",
       "      <td>0</td>\n",
       "      <td>0</td>\n",
       "      <td>0</td>\n",
       "      <td>0</td>\n",
       "      <td>0</td>\n",
       "      <td>0</td>\n",
       "    </tr>\n",
       "    <tr>\n",
       "      <th>145579</th>\n",
       "      <td>0</td>\n",
       "      <td>0</td>\n",
       "      <td>0</td>\n",
       "      <td>0</td>\n",
       "      <td>0</td>\n",
       "      <td>0</td>\n",
       "      <td>0</td>\n",
       "      <td>0</td>\n",
       "      <td>0</td>\n",
       "      <td>0</td>\n",
       "      <td>...</td>\n",
       "      <td>0</td>\n",
       "      <td>0</td>\n",
       "      <td>0</td>\n",
       "      <td>0</td>\n",
       "      <td>0</td>\n",
       "      <td>0</td>\n",
       "      <td>0</td>\n",
       "      <td>0</td>\n",
       "      <td>0</td>\n",
       "      <td>0</td>\n",
       "    </tr>\n",
       "    <tr>\n",
       "      <th>...</th>\n",
       "      <td>...</td>\n",
       "      <td>...</td>\n",
       "      <td>...</td>\n",
       "      <td>...</td>\n",
       "      <td>...</td>\n",
       "      <td>...</td>\n",
       "      <td>...</td>\n",
       "      <td>...</td>\n",
       "      <td>...</td>\n",
       "      <td>...</td>\n",
       "      <td>...</td>\n",
       "      <td>...</td>\n",
       "      <td>...</td>\n",
       "      <td>...</td>\n",
       "      <td>...</td>\n",
       "      <td>...</td>\n",
       "      <td>...</td>\n",
       "      <td>...</td>\n",
       "      <td>...</td>\n",
       "      <td>...</td>\n",
       "      <td>...</td>\n",
       "    </tr>\n",
       "    <tr>\n",
       "      <th>157707</th>\n",
       "      <td>0</td>\n",
       "      <td>0</td>\n",
       "      <td>0</td>\n",
       "      <td>0</td>\n",
       "      <td>0</td>\n",
       "      <td>0</td>\n",
       "      <td>0</td>\n",
       "      <td>0</td>\n",
       "      <td>0</td>\n",
       "      <td>0</td>\n",
       "      <td>...</td>\n",
       "      <td>0</td>\n",
       "      <td>0</td>\n",
       "      <td>0</td>\n",
       "      <td>0</td>\n",
       "      <td>0</td>\n",
       "      <td>0</td>\n",
       "      <td>0</td>\n",
       "      <td>0</td>\n",
       "      <td>0</td>\n",
       "      <td>0</td>\n",
       "    </tr>\n",
       "    <tr>\n",
       "      <th>321101</th>\n",
       "      <td>0</td>\n",
       "      <td>0</td>\n",
       "      <td>0</td>\n",
       "      <td>0</td>\n",
       "      <td>0</td>\n",
       "      <td>0</td>\n",
       "      <td>0</td>\n",
       "      <td>0</td>\n",
       "      <td>0</td>\n",
       "      <td>0</td>\n",
       "      <td>...</td>\n",
       "      <td>0</td>\n",
       "      <td>0</td>\n",
       "      <td>0</td>\n",
       "      <td>0</td>\n",
       "      <td>0</td>\n",
       "      <td>0</td>\n",
       "      <td>0</td>\n",
       "      <td>0</td>\n",
       "      <td>0</td>\n",
       "      <td>0</td>\n",
       "    </tr>\n",
       "    <tr>\n",
       "      <th>198241</th>\n",
       "      <td>0</td>\n",
       "      <td>0</td>\n",
       "      <td>0</td>\n",
       "      <td>0</td>\n",
       "      <td>0</td>\n",
       "      <td>0</td>\n",
       "      <td>0</td>\n",
       "      <td>0</td>\n",
       "      <td>0</td>\n",
       "      <td>0</td>\n",
       "      <td>...</td>\n",
       "      <td>0</td>\n",
       "      <td>0</td>\n",
       "      <td>0</td>\n",
       "      <td>0</td>\n",
       "      <td>0</td>\n",
       "      <td>0</td>\n",
       "      <td>0</td>\n",
       "      <td>0</td>\n",
       "      <td>0</td>\n",
       "      <td>0</td>\n",
       "    </tr>\n",
       "    <tr>\n",
       "      <th>119578</th>\n",
       "      <td>0</td>\n",
       "      <td>0</td>\n",
       "      <td>0</td>\n",
       "      <td>0</td>\n",
       "      <td>0</td>\n",
       "      <td>0</td>\n",
       "      <td>0</td>\n",
       "      <td>0</td>\n",
       "      <td>0</td>\n",
       "      <td>0</td>\n",
       "      <td>...</td>\n",
       "      <td>0</td>\n",
       "      <td>0</td>\n",
       "      <td>0</td>\n",
       "      <td>0</td>\n",
       "      <td>0</td>\n",
       "      <td>0</td>\n",
       "      <td>0</td>\n",
       "      <td>0</td>\n",
       "      <td>0</td>\n",
       "      <td>0</td>\n",
       "    </tr>\n",
       "    <tr>\n",
       "      <th>136512</th>\n",
       "      <td>0</td>\n",
       "      <td>0</td>\n",
       "      <td>0</td>\n",
       "      <td>0</td>\n",
       "      <td>0</td>\n",
       "      <td>0</td>\n",
       "      <td>0</td>\n",
       "      <td>0</td>\n",
       "      <td>0</td>\n",
       "      <td>0</td>\n",
       "      <td>...</td>\n",
       "      <td>0</td>\n",
       "      <td>0</td>\n",
       "      <td>0</td>\n",
       "      <td>0</td>\n",
       "      <td>0</td>\n",
       "      <td>0</td>\n",
       "      <td>0</td>\n",
       "      <td>0</td>\n",
       "      <td>0</td>\n",
       "      <td>0</td>\n",
       "    </tr>\n",
       "  </tbody>\n",
       "</table>\n",
       "<p>30000 rows × 6000 columns</p>\n",
       "</div>"
      ],
      "text/plain": [
       "        0     1     2     3     4     5     6     7     8     9     ...  2990  \\\n",
       "138476     0     0     0     0     0     0     0     0     0     0  ...     0   \n",
       "346090     0     0     0     0     0     0     0     0     0     0  ...     0   \n",
       "383975     0     0     0     0     0     0     0     0     0     0  ...     0   \n",
       "201157     0     0     0     0     0     0     0     0     0     0  ...     0   \n",
       "145579     0     0     0     0     0     0     0     0     0     0  ...     0   \n",
       "...      ...   ...   ...   ...   ...   ...   ...   ...   ...   ...  ...   ...   \n",
       "157707     0     0     0     0     0     0     0     0     0     0  ...     0   \n",
       "321101     0     0     0     0     0     0     0     0     0     0  ...     0   \n",
       "198241     0     0     0     0     0     0     0     0     0     0  ...     0   \n",
       "119578     0     0     0     0     0     0     0     0     0     0  ...     0   \n",
       "136512     0     0     0     0     0     0     0     0     0     0  ...     0   \n",
       "\n",
       "        2991  2992  2993  2994  2995  2996  2997  2998  2999  \n",
       "138476     0     0     0     0     0     0     0     0     0  \n",
       "346090     0     0     0     0     0     0     0     0     0  \n",
       "383975     0     0     0     0     0     0     0     0     0  \n",
       "201157     0     0     0     0     0     0     0     0     0  \n",
       "145579     0     0     0     0     0     0     0     0     0  \n",
       "...      ...   ...   ...   ...   ...   ...   ...   ...   ...  \n",
       "157707     0     0     0     0     0     0     0     0     0  \n",
       "321101     0     0     0     0     0     0     0     0     0  \n",
       "198241     0     0     0     0     0     0     0     0     0  \n",
       "119578     0     0     0     0     0     0     0     0     0  \n",
       "136512     0     0     0     0     0     0     0     0     0  \n",
       "\n",
       "[30000 rows x 6000 columns]"
      ]
     },
     "execution_count": 19,
     "metadata": {},
     "output_type": "execute_result"
    }
   ],
   "source": [
    "# how the dataset looks like\n",
    "temp_df"
   ]
  },
  {
   "cell_type": "markdown",
   "id": "f476926d-bb37-460a-a354-b8ee26bd402f",
   "metadata": {},
   "source": [
    "So many zeroes - sparse array"
   ]
  },
  {
   "cell_type": "code",
   "execution_count": 20,
   "id": "5c2187b8-1818-4f99-967c-6eade5e0dd32",
   "metadata": {},
   "outputs": [],
   "source": [
    "temp_df['is_duplicate'] = new_df['is_duplicate']"
   ]
  },
  {
   "cell_type": "code",
   "execution_count": 21,
   "id": "40c72227-5e9a-435f-8567-14a25bf34814",
   "metadata": {},
   "outputs": [
    {
     "data": {
      "text/html": [
       "<div>\n",
       "<style scoped>\n",
       "    .dataframe tbody tr th:only-of-type {\n",
       "        vertical-align: middle;\n",
       "    }\n",
       "\n",
       "    .dataframe tbody tr th {\n",
       "        vertical-align: top;\n",
       "    }\n",
       "\n",
       "    .dataframe thead th {\n",
       "        text-align: right;\n",
       "    }\n",
       "</style>\n",
       "<table border=\"1\" class=\"dataframe\">\n",
       "  <thead>\n",
       "    <tr style=\"text-align: right;\">\n",
       "      <th></th>\n",
       "      <th>0</th>\n",
       "      <th>1</th>\n",
       "      <th>2</th>\n",
       "      <th>3</th>\n",
       "      <th>4</th>\n",
       "      <th>5</th>\n",
       "      <th>6</th>\n",
       "      <th>7</th>\n",
       "      <th>8</th>\n",
       "      <th>9</th>\n",
       "      <th>...</th>\n",
       "      <th>2991</th>\n",
       "      <th>2992</th>\n",
       "      <th>2993</th>\n",
       "      <th>2994</th>\n",
       "      <th>2995</th>\n",
       "      <th>2996</th>\n",
       "      <th>2997</th>\n",
       "      <th>2998</th>\n",
       "      <th>2999</th>\n",
       "      <th>is_duplicate</th>\n",
       "    </tr>\n",
       "  </thead>\n",
       "  <tbody>\n",
       "    <tr>\n",
       "      <th>138476</th>\n",
       "      <td>0</td>\n",
       "      <td>0</td>\n",
       "      <td>0</td>\n",
       "      <td>0</td>\n",
       "      <td>0</td>\n",
       "      <td>0</td>\n",
       "      <td>0</td>\n",
       "      <td>0</td>\n",
       "      <td>0</td>\n",
       "      <td>0</td>\n",
       "      <td>...</td>\n",
       "      <td>0</td>\n",
       "      <td>0</td>\n",
       "      <td>0</td>\n",
       "      <td>0</td>\n",
       "      <td>0</td>\n",
       "      <td>0</td>\n",
       "      <td>0</td>\n",
       "      <td>0</td>\n",
       "      <td>0</td>\n",
       "      <td>0</td>\n",
       "    </tr>\n",
       "    <tr>\n",
       "      <th>346090</th>\n",
       "      <td>0</td>\n",
       "      <td>0</td>\n",
       "      <td>0</td>\n",
       "      <td>0</td>\n",
       "      <td>0</td>\n",
       "      <td>0</td>\n",
       "      <td>0</td>\n",
       "      <td>0</td>\n",
       "      <td>0</td>\n",
       "      <td>0</td>\n",
       "      <td>...</td>\n",
       "      <td>0</td>\n",
       "      <td>0</td>\n",
       "      <td>0</td>\n",
       "      <td>0</td>\n",
       "      <td>0</td>\n",
       "      <td>0</td>\n",
       "      <td>0</td>\n",
       "      <td>0</td>\n",
       "      <td>0</td>\n",
       "      <td>0</td>\n",
       "    </tr>\n",
       "    <tr>\n",
       "      <th>383975</th>\n",
       "      <td>0</td>\n",
       "      <td>0</td>\n",
       "      <td>0</td>\n",
       "      <td>0</td>\n",
       "      <td>0</td>\n",
       "      <td>0</td>\n",
       "      <td>0</td>\n",
       "      <td>0</td>\n",
       "      <td>0</td>\n",
       "      <td>0</td>\n",
       "      <td>...</td>\n",
       "      <td>0</td>\n",
       "      <td>0</td>\n",
       "      <td>0</td>\n",
       "      <td>0</td>\n",
       "      <td>0</td>\n",
       "      <td>0</td>\n",
       "      <td>0</td>\n",
       "      <td>0</td>\n",
       "      <td>0</td>\n",
       "      <td>1</td>\n",
       "    </tr>\n",
       "    <tr>\n",
       "      <th>201157</th>\n",
       "      <td>0</td>\n",
       "      <td>0</td>\n",
       "      <td>0</td>\n",
       "      <td>0</td>\n",
       "      <td>0</td>\n",
       "      <td>0</td>\n",
       "      <td>0</td>\n",
       "      <td>0</td>\n",
       "      <td>0</td>\n",
       "      <td>0</td>\n",
       "      <td>...</td>\n",
       "      <td>0</td>\n",
       "      <td>0</td>\n",
       "      <td>0</td>\n",
       "      <td>0</td>\n",
       "      <td>0</td>\n",
       "      <td>0</td>\n",
       "      <td>0</td>\n",
       "      <td>0</td>\n",
       "      <td>0</td>\n",
       "      <td>1</td>\n",
       "    </tr>\n",
       "    <tr>\n",
       "      <th>145579</th>\n",
       "      <td>0</td>\n",
       "      <td>0</td>\n",
       "      <td>0</td>\n",
       "      <td>0</td>\n",
       "      <td>0</td>\n",
       "      <td>0</td>\n",
       "      <td>0</td>\n",
       "      <td>0</td>\n",
       "      <td>0</td>\n",
       "      <td>0</td>\n",
       "      <td>...</td>\n",
       "      <td>0</td>\n",
       "      <td>0</td>\n",
       "      <td>0</td>\n",
       "      <td>0</td>\n",
       "      <td>0</td>\n",
       "      <td>0</td>\n",
       "      <td>0</td>\n",
       "      <td>0</td>\n",
       "      <td>0</td>\n",
       "      <td>0</td>\n",
       "    </tr>\n",
       "  </tbody>\n",
       "</table>\n",
       "<p>5 rows × 6001 columns</p>\n",
       "</div>"
      ],
      "text/plain": [
       "        0  1  2  3  4  5  6  7  8  9  ...  2991  2992  2993  2994  2995  2996  \\\n",
       "138476  0  0  0  0  0  0  0  0  0  0  ...     0     0     0     0     0     0   \n",
       "346090  0  0  0  0  0  0  0  0  0  0  ...     0     0     0     0     0     0   \n",
       "383975  0  0  0  0  0  0  0  0  0  0  ...     0     0     0     0     0     0   \n",
       "201157  0  0  0  0  0  0  0  0  0  0  ...     0     0     0     0     0     0   \n",
       "145579  0  0  0  0  0  0  0  0  0  0  ...     0     0     0     0     0     0   \n",
       "\n",
       "        2997  2998  2999  is_duplicate  \n",
       "138476     0     0     0             0  \n",
       "346090     0     0     0             0  \n",
       "383975     0     0     0             1  \n",
       "201157     0     0     0             1  \n",
       "145579     0     0     0             0  \n",
       "\n",
       "[5 rows x 6001 columns]"
      ]
     },
     "execution_count": 21,
     "metadata": {},
     "output_type": "execute_result"
    }
   ],
   "source": [
    "temp_df.head(5)"
   ]
  },
  {
   "cell_type": "code",
   "execution_count": 22,
   "id": "605bd481-ed91-4fd9-863a-28acb2f6d556",
   "metadata": {},
   "outputs": [],
   "source": [
    "from sklearn.model_selection import train_test_split\n",
    "X_train, X_test, y_train, y_test = train_test_split(temp_df.iloc[:,0:-1].values,temp_df.iloc[:,-1].values,test_size=0.2,random_state=1)"
   ]
  },
  {
   "cell_type": "markdown",
   "id": "ff3e120e-0aed-42e1-a104-16140331ac64",
   "metadata": {},
   "source": [
    "#### Applying Random Forest"
   ]
  },
  {
   "cell_type": "code",
   "execution_count": 23,
   "id": "0e106034-3bed-44bc-a6ac-d667b8f5cb29",
   "metadata": {},
   "outputs": [
    {
     "data": {
      "text/plain": [
       "0.7383333333333333"
      ]
     },
     "execution_count": 23,
     "metadata": {},
     "output_type": "execute_result"
    }
   ],
   "source": [
    "from sklearn.ensemble import RandomForestClassifier\n",
    "from sklearn.metrics import accuracy_score\n",
    "rf = RandomForestClassifier()\n",
    "rf.fit(X_train, y_train)\n",
    "y_pred = rf.predict(X_test)\n",
    "accuracy_score(y_test,y_pred)"
   ]
  },
  {
   "cell_type": "markdown",
   "id": "024d6f99-0426-4e4f-b514-0bfb43346cd1",
   "metadata": {},
   "source": [
    "#### Confusion Matrix for Random Forest model"
   ]
  },
  {
   "cell_type": "code",
   "execution_count": 25,
   "id": "f6e7b1f0-3d84-472e-9b70-5068faf18f87",
   "metadata": {},
   "outputs": [],
   "source": [
    "from sklearn.metrics import confusion_matrix"
   ]
  },
  {
   "cell_type": "code",
   "execution_count": 26,
   "id": "74f98955-d648-41a1-8b85-26e53283b361",
   "metadata": {},
   "outputs": [
    {
     "data": {
      "text/plain": [
       "array([[3413,  375],\n",
       "       [1195, 1017]], dtype=int64)"
      ]
     },
     "execution_count": 26,
     "metadata": {},
     "output_type": "execute_result"
    }
   ],
   "source": [
    "# for random forest model\n",
    "confusion_matrix(y_test,y_pred)"
   ]
  },
  {
   "cell_type": "markdown",
   "id": "9d9ee1ec-e6ad-4bd4-89ed-6e800eee5b7a",
   "metadata": {},
   "source": [
    "### Applying XgBoost"
   ]
  },
  {
   "cell_type": "code",
   "execution_count": 29,
   "id": "7eb0ff70-6b09-4f62-8ec4-d55775d85437",
   "metadata": {},
   "outputs": [
    {
     "name": "stdout",
     "output_type": "stream",
     "text": [
      "Collecting xgboost\n",
      "  Downloading xgboost-1.7.1-py3-none-win_amd64.whl (89.1 MB)\n",
      "Requirement already satisfied: scipy in c:\\users\\sneeg\\anaconda3\\lib\\site-packages (from xgboost) (1.6.2)\n",
      "Requirement already satisfied: numpy in c:\\users\\sneeg\\anaconda3\\lib\\site-packages (from xgboost) (1.19.5)\n",
      "Installing collected packages: xgboost\n",
      "Successfully installed xgboost-1.7.1\n"
     ]
    },
    {
     "name": "stderr",
     "output_type": "stream",
     "text": [
      "WARNING: You are using pip version 21.2.4; however, version 22.3.1 is available.\n",
      "You should consider upgrading via the 'c:\\users\\sneeg\\anaconda3\\python.exe -m pip install --upgrade pip' command.\n"
     ]
    }
   ],
   "source": [
    "!pip install xgboost"
   ]
  },
  {
   "cell_type": "code",
   "execution_count": 30,
   "id": "b4c950bc-f0a4-4a2b-8bf2-cea190df14d8",
   "metadata": {},
   "outputs": [
    {
     "data": {
      "text/plain": [
       "0.723"
      ]
     },
     "execution_count": 30,
     "metadata": {},
     "output_type": "execute_result"
    }
   ],
   "source": [
    "from xgboost import XGBClassifier\n",
    "xgb = XGBClassifier()\n",
    "xgb.fit(X_train,y_train)\n",
    "y_pred = xgb.predict(X_test)\n",
    "accuracy_score(y_test,y_pred)"
   ]
  },
  {
   "cell_type": "markdown",
   "id": "4189f813-5810-4c88-98f2-66f82a92f63a",
   "metadata": {},
   "source": [
    "#### Confusion Matrix for XgBoost"
   ]
  },
  {
   "cell_type": "code",
   "execution_count": 31,
   "id": "e8d100b8-2a0f-48a4-bf92-75f4d52e595f",
   "metadata": {},
   "outputs": [
    {
     "data": {
      "text/plain": [
       "array([[3418,  370],\n",
       "       [1292,  920]], dtype=int64)"
      ]
     },
     "execution_count": 31,
     "metadata": {},
     "output_type": "execute_result"
    }
   ],
   "source": [
    "# for XgBoost model\n",
    "confusion_matrix(y_test,y_pred)"
   ]
  },
  {
   "cell_type": "code",
   "execution_count": null,
   "id": "78d6a79d-c99d-41f8-916e-441bdd50acab",
   "metadata": {},
   "outputs": [],
   "source": []
  }
 ],
 "metadata": {
  "kernelspec": {
   "display_name": "Python 3",
   "language": "python",
   "name": "python3"
  },
  "language_info": {
   "codemirror_mode": {
    "name": "ipython",
    "version": 3
   },
   "file_extension": ".py",
   "mimetype": "text/x-python",
   "name": "python",
   "nbconvert_exporter": "python",
   "pygments_lexer": "ipython3",
   "version": "3.8.8"
  }
 },
 "nbformat": 4,
 "nbformat_minor": 5
}
